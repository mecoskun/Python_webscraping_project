{
 "cells": [
  {
   "cell_type": "markdown",
   "metadata": {},
   "source": [
    "# This script uses Selenium webdriver to retrieve data from a data set"
   ]
  },
  {
   "cell_type": "code",
   "execution_count": 29,
   "metadata": {},
   "outputs": [
    {
     "name": "stdout",
     "output_type": "stream",
     "text": [
      "Collecting selenium\n",
      "  Using cached selenium-3.141.0-py2.py3-none-any.whl (904 kB)\n",
      "Requirement already satisfied: urllib3 in c:\\users\\emre\\anaconda3\\lib\\site-packages (from selenium) (1.25.8)\n",
      "Installing collected packages: selenium\n",
      "Successfully installed selenium-3.141.0\n"
     ]
    }
   ],
   "source": [
    "#install Selenium \n",
    "!pip install selenium"
   ]
  },
  {
   "cell_type": "code",
   "execution_count": 32,
   "metadata": {},
   "outputs": [
    {
     "name": "stdout",
     "output_type": "stream",
     "text": [
      "Requirement already up-to-date: selenium in c:\\users\\emre\\anaconda3\\lib\\site-packages (3.141.0)\n",
      "Requirement already satisfied, skipping upgrade: urllib3 in c:\\users\\emre\\anaconda3\\lib\\site-packages (from selenium) (1.25.8)\n"
     ]
    }
   ],
   "source": [
    "!pip install --upgrade selenium"
   ]
  },
  {
   "cell_type": "code",
   "execution_count": 20,
   "metadata": {},
   "outputs": [
    {
     "ename": "SyntaxError",
     "evalue": "invalid syntax (<ipython-input-20-523ca9ad465a>, line 1)",
     "output_type": "error",
     "traceback": [
      "\u001b[1;36m  File \u001b[1;32m\"<ipython-input-20-523ca9ad465a>\"\u001b[1;36m, line \u001b[1;32m1\u001b[0m\n\u001b[1;33m    open(C:\\Users\\Emre\\AppData\\Local\\Programs\\Python\\Python38)\u001b[0m\n\u001b[1;37m          ^\u001b[0m\n\u001b[1;31mSyntaxError\u001b[0m\u001b[1;31m:\u001b[0m invalid syntax\n"
     ]
    }
   ],
   "source": [
    "open(C:\\Users\\Emre\\AppData\\Local\\Programs\\Python\\Python38)"
   ]
  },
  {
   "cell_type": "code",
   "execution_count": 37,
   "metadata": {},
   "outputs": [
    {
     "name": "stdout",
     "output_type": "stream",
     "text": [
      "# conda environments:\n",
      "#\n",
      "base                     C:\\Users\\Emre\\anaconda3\n",
      "python38                 C:\\Users\\Emre\\anaconda3\\envs\\python38\n",
      "\n"
     ]
    }
   ],
   "source": [
    "!conda env list"
   ]
  },
  {
   "cell_type": "code",
   "execution_count": 39,
   "metadata": {
    "scrolled": true
   },
   "outputs": [
    {
     "name": "stdout",
     "output_type": "stream",
     "text": [
      "Collecting package metadata (current_repodata.json): ...working... done\n",
      "Solving environment: ...working... done\n",
      "\n",
      "## Package Plan ##\n",
      "\n",
      "  environment location: C:\\Users\\Emre\\anaconda3\n",
      "\n",
      "  added / updated specs:\n",
      "    - selenium\n",
      "\n",
      "\n",
      "The following packages will be downloaded:\n",
      "\n",
      "    package                    |            build\n",
      "    ---------------------------|-----------------\n",
      "    conda-4.8.4                |           py37_0         2.9 MB\n",
      "    selenium-3.141.0           |py37hfa6e2cd_1001         813 KB\n",
      "    ------------------------------------------------------------\n",
      "                                           Total:         3.7 MB\n",
      "\n",
      "The following NEW packages will be INSTALLED:\n",
      "\n",
      "  selenium           pkgs/main/win-64::selenium-3.141.0-py37hfa6e2cd_1001\n",
      "\n",
      "The following packages will be UPDATED:\n",
      "\n",
      "  conda                                        4.8.2-py37_0 --> 4.8.4-py37_0\n",
      "\n",
      "\n",
      "\n",
      "Downloading and Extracting Packages\n",
      "\n",
      "selenium-3.141.0     | 813 KB    |            |   0% \n",
      "selenium-3.141.0     | 813 KB    | 1          |   2% \n",
      "selenium-3.141.0     | 813 KB    | ##1        |  22% \n",
      "selenium-3.141.0     | 813 KB    | ###1       |  31% \n",
      "selenium-3.141.0     | 813 KB    | #####3     |  53% \n",
      "selenium-3.141.0     | 813 KB    | ######4    |  65% \n",
      "selenium-3.141.0     | 813 KB    | ########   |  81% \n",
      "selenium-3.141.0     | 813 KB    | #########2 |  92% \n",
      "selenium-3.141.0     | 813 KB    | ########## | 100% \n",
      "\n",
      "conda-4.8.4          | 2.9 MB    |            |   0% \n",
      "conda-4.8.4          | 2.9 MB    | 1          |   1% \n",
      "conda-4.8.4          | 2.9 MB    | 4          |   5% \n",
      "conda-4.8.4          | 2.9 MB    | 9          |   9% \n",
      "conda-4.8.4          | 2.9 MB    | #4         |  14% \n",
      "conda-4.8.4          | 2.9 MB    | #7         |  18% \n",
      "conda-4.8.4          | 2.9 MB    | ##         |  21% \n",
      "conda-4.8.4          | 2.9 MB    | ##4        |  24% \n",
      "conda-4.8.4          | 2.9 MB    | ##9        |  30% \n",
      "conda-4.8.4          | 2.9 MB    | ###3       |  34% \n",
      "conda-4.8.4          | 2.9 MB    | ###8       |  39% \n",
      "conda-4.8.4          | 2.9 MB    | ####3      |  43% \n",
      "conda-4.8.4          | 2.9 MB    | ####7      |  48% \n",
      "conda-4.8.4          | 2.9 MB    | #####3     |  53% \n",
      "conda-4.8.4          | 2.9 MB    | #####8     |  59% \n",
      "conda-4.8.4          | 2.9 MB    | ######2    |  63% \n",
      "conda-4.8.4          | 2.9 MB    | ######7    |  67% \n",
      "conda-4.8.4          | 2.9 MB    | #######1   |  71% \n",
      "conda-4.8.4          | 2.9 MB    | #######4   |  75% \n",
      "conda-4.8.4          | 2.9 MB    | #######8   |  78% \n",
      "conda-4.8.4          | 2.9 MB    | ########   |  81% \n",
      "conda-4.8.4          | 2.9 MB    | ########3  |  84% \n",
      "conda-4.8.4          | 2.9 MB    | ########6  |  86% \n",
      "conda-4.8.4          | 2.9 MB    | #########  |  91% \n",
      "conda-4.8.4          | 2.9 MB    | #########3 |  94% \n",
      "conda-4.8.4          | 2.9 MB    | #########7 |  97% \n",
      "conda-4.8.4          | 2.9 MB    | ########## | 100% \n",
      "Preparing transaction: ...working... done\n",
      "Verifying transaction: ...working... done\n",
      "Executing transaction: ...working... done\n"
     ]
    }
   ],
   "source": [
    "# Install a conda package in the current Jupyter kernel\n",
    "import sys\n",
    "!conda install --yes --prefix {sys.prefix} selenium"
   ]
  },
  {
   "cell_type": "code",
   "execution_count": 49,
   "metadata": {},
   "outputs": [],
   "source": [
    "from selenium import webdriver\n",
    "from selenium.webdriver.common.keys import Keys\n",
    "\n",
    "driver = webdriver.Chrome()\n",
    "driver.get(\"http://www.python.org\")\n",
    "assert \"Python\" in driver.title\n",
    "elem = driver.find_element_by_name(\"q\")\n",
    "elem.clear()\n",
    "elem.send_keys(\"pycon\")\n",
    "elem.send_keys(Keys.RETURN)\n",
    "assert \"No results found.\" not in driver.page_source\n",
    "#driver.close()"
   ]
  },
  {
   "cell_type": "code",
   "execution_count": 50,
   "metadata": {},
   "outputs": [
    {
     "data": {
      "text/plain": [
       "<selenium.webdriver.remote.webelement.WebElement (session=\"5fba24eca53bd3eb447a2ca832242b8f\", element=\"6557335f-f96f-438f-937a-3a475f6dacaa\")>"
      ]
     },
     "execution_count": 50,
     "metadata": {},
     "output_type": "execute_result"
    }
   ],
   "source": [
    "elem"
   ]
  },
  {
   "cell_type": "code",
   "execution_count": 51,
   "metadata": {},
   "outputs": [],
   "source": [
    "driver.close()"
   ]
  },
  {
   "cell_type": "code",
   "execution_count": null,
   "metadata": {},
   "outputs": [],
   "source": []
  }
 ],
 "metadata": {
  "kernelspec": {
   "display_name": "Python 3",
   "language": "python",
   "name": "python3"
  },
  "language_info": {
   "codemirror_mode": {
    "name": "ipython",
    "version": 3
   },
   "file_extension": ".py",
   "mimetype": "text/x-python",
   "name": "python",
   "nbconvert_exporter": "python",
   "pygments_lexer": "ipython3",
   "version": "3.7.6"
  }
 },
 "nbformat": 4,
 "nbformat_minor": 4
}
